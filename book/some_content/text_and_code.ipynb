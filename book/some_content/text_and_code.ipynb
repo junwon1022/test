{
 "cells": [
  {
   "cell_type": "markdown",
   "metadata": {},
   "source": [
    "# Text and code\n",
    "\n",
    "Lorem ipsum dolor sit amet, consectetur adipiscing elit, sed do eiusmod tempor incididunt ut labore et dolore magna aliqua. Ut enim ad minim veniam, quis nostrud exercitation ullamco laboris nisi ut aliquip ex ea commodo consequat. Duis aute irure dolor in reprehenderit in voluptate velit esse cillum dolore eu fugiat nulla pariatur. Excepteur sint occaecat cupidatat non proident, sunt in culpa qui officia deserunt mollit anim id est laborum."
   ]
  },
  {
     "cell_type": "code",
     "execution_count": 19,
     "metadata": {},
     "outputs": [
        {
           "data": {
              "text/html": [
                 "<iframe src=\"poc.html\" width=\"1200\" height=\"650\"></iframe>"
              ],
              "text/plain": [
                 "<IPython.core.display.HTML object>"
              ]
           },
           "metadata": {},
           "output_type": "display_data"
        }
     ],
     "source": [
        "from IPython.display import HTML\n",
        "display(HTML('<iframe src=\"poc.html\" width=\"1200\" height=\"650\"></iframe>'))"
     ]
  },
  {
   "cell_type": "code",
   "execution_count": 1,
   "metadata": {},
   "outputs": [
    {
     "name": "stdout",
     "output_type": "stream",
     "text": [
      "hello world\n"
     ]
    }
   ],
   "source": [
    "print('hello world')"
   ]
  }
 ],
 "metadata": {
  "kernelspec": {
   "display_name": "base",
   "language": "python",
   "name": "python3"
  },
  "language_info": {
   "codemirror_mode": {
    "name": "ipython",
    "version": 3
   },
   "file_extension": ".py",
   "mimetype": "text/x-python",
   "name": "python",
   "nbconvert_exporter": "python",
   "pygments_lexer": "ipython3",
   "version": "3.9.18"
  }
 },
 "nbformat": 4,
 "nbformat_minor": 2
}
