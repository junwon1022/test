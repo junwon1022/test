{
   "cells": [
      {
         "cell_type": "markdown",
         "metadata": {},
         "source": [
            "# Text and code\n",
            "\n",
            "Lorem ipsum dolor sit amet..."
         ]
      },
      {
         "cell_type": "code",
         "execution_count": 19,
         "metadata": {},
         "outputs": [
            {
               "data": {
                  "text/html": [
                     "<iframe src=\"poc.html\" width=\"1200\" height=\"650\"></iframe>"
                  ],
                  "text/plain": [
                     "<IPython.core.display.HTML object>"
                  ]
               },
               "metadata": {},
               "output_type": "display_data"
            }
         ],
         "source": [
            "from IPython.display import HTML\n",
            "display(HTML('<iframe src=\"poc.html\" width=\"1200\" height=\"650\"></iframe>'))"
         ]
      },
      {
         "cell_type": "code",
         "execution_count": 10,
         "metadata": {},
         "outputs": [
            {
               "name": "stdout",
               "output_type": "stream",
               "text": [
                  "hello world\n"
               ]
            }
         ],
         "source": [
            "print('hello world')"
         ]
      },
      {
         "cell_type": "code",
         "execution_count": null,
         "metadata": {},
         "outputs": [],
         "source": []
      }
   ],
   "metadata": { ... },
   "nbformat": 4,
   "nbformat_minor": 4
}
